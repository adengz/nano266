{
 "cells": [
  {
   "cell_type": "code",
   "execution_count": 1,
   "metadata": {
    "collapsed": false
   },
   "outputs": [],
   "source": [
    "import json\n",
    "from math import sqrt\n",
    "import numpy as np\n",
    "from pymatgen.core.structure import Structure\n",
    "from pymatgen.core.lattice import Lattice\n",
    "\n",
    "with open('atompos.json') as f:\n",
    "    ATOMPOS = json.load(f)\n",
    "a = 4.0346208\n",
    "\n",
    "def get_coords(miller_indices):\n",
    "    pos_str = ATOMPOS[miller_indices]\n",
    "    str_list = pos_str.split('\\n')\n",
    "    coords = np.array([i.split()[1:] for i in str_list],dtype=float)\n",
    "    return coords\n",
    "\n",
    "def get_slab_structure(a0, miller_indices):\n",
    "    if miller_indices == '100':\n",
    "        latt = Lattice.tetragonal(a0, 9*a0)\n",
    "    elif miller_indices == '111':\n",
    "        latt = Lattice.hexagonal(a0/sqrt(2),sqrt(6)*a0)\n",
    "    else:\n",
    "        raise ValueError('Invalid Miller indices.')\n",
    "    coords = get_coords(miller_indices)\n",
    "    species = ['Al']*len(coords)\n",
    "    s = Structure(latt,species,coords)\n",
    "    return s\n",
    "\n",
    "for m in ['100','111']:\n",
    "    slab = get_slab_structure(a,m)\n",
    "    slab.to(filename='%s.cif' % m)\n",
    "    del slab"
   ]
  },
  {
   "cell_type": "code",
   "execution_count": null,
   "metadata": {
    "collapsed": true
   },
   "outputs": [],
   "source": []
  }
 ],
 "metadata": {
  "kernelspec": {
   "display_name": "Python 2",
   "language": "python",
   "name": "python2"
  },
  "language_info": {
   "codemirror_mode": {
    "name": "ipython",
    "version": 2
   },
   "file_extension": ".py",
   "mimetype": "text/x-python",
   "name": "python",
   "nbconvert_exporter": "python",
   "pygments_lexer": "ipython2",
   "version": "2.7.9"
  }
 },
 "nbformat": 4,
 "nbformat_minor": 0
}
